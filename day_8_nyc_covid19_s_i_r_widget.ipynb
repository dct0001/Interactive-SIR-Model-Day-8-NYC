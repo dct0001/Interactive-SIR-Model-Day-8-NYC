{
 "cells": [
  {
   "cell_type": "code",
   "execution_count": 1,
   "metadata": {},
   "outputs": [],
   "source": [
    "import scipy.integrate\n",
    "import numpy as np\n",
    "import matplotlib.pyplot as plt"
   ]
  },
  {
   "cell_type": "code",
   "execution_count": 2,
   "metadata": {},
   "outputs": [],
   "source": [
    "%matplotlib inline"
   ]
  },
  {
   "cell_type": "code",
   "execution_count": 3,
   "metadata": {},
   "outputs": [],
   "source": [
    "from ipywidgets import interact, interactive, fixed, interact_manual\n",
    "import ipywidgets as widgets"
   ]
  },
  {
   "cell_type": "code",
   "execution_count": 4,
   "metadata": {},
   "outputs": [],
   "source": [
    "def basic_SIR_covid19_nyc(beta = 0.5, gamma = 0.0714):\n",
    "    def f(y, t, beta, gamma):\n",
    "\n",
    "        s, i, r = y\n",
    "        ds_dt = -beta*s*i\n",
    "        di_dt = beta*s*i - gamma*i\n",
    "        dr_dt = gamma*i\n",
    "        return [ds_dt, di_dt, dr_dt]\n",
    "\n",
    "    t = np.linspace(start = 0, stop = 100, num = 1000)\n",
    "    \n",
    "    # from day 8 of quarantine in New York - assumptions:\n",
    "    N = 23630000  # ~ population of the greater NYC area\n",
    "    S0 = 23620000 # ~ initial number of susceptibles at t = 0 (day 8) \n",
    "    I0 = 9900     # ~ initial number of infected at t = 0 (day 8)\n",
    "    R0 = 100      # ~ initial number of recovered at t = 0 (day 8)\n",
    "    \n",
    "    s0 = S0/N     # ~ ratio of susceptibles to population size\n",
    "    i0 = I0/N     # ~ ratio of infected to population size\n",
    "    r0 = R0/N     # ~ ratio of recovered to population size\n",
    "\n",
    "    s = scipy.integrate.odeint(f, [s0, i0, r0], t, args = (beta, gamma))\n",
    "\n",
    "    plt.plot(t,s[:, 0], label = 's(t)', linewidth = 2.0)\n",
    "    plt.plot(t,s[:, 1], label = 'i(t)', linewidth = 2.0)\n",
    "    plt.plot(t,s[:, 2], label = 'r(t)', linewidth = 2.0)\n",
    "    plt.xlabel(\"Time\")\n",
    "    plt.ylabel(\"s, i, r\")\n",
    "    plt.legend()\n",
    "    plt.grid()\n",
    "    plt.show()"
   ]
  },
  {
   "cell_type": "code",
   "execution_count": 5,
   "metadata": {},
   "outputs": [
    {
     "data": {
      "application/vnd.jupyter.widget-view+json": {
       "model_id": "d81ffecd8e764816b55135b73ff8693a",
       "version_major": 2,
       "version_minor": 0
      },
      "text/plain": [
       "interactive(children=(FloatSlider(value=0.5, description='beta', max=1.0, min=-1.0, step=0.01), FloatSlider(va…"
      ]
     },
     "metadata": {},
     "output_type": "display_data"
    }
   ],
   "source": [
    "w = interactive(basic_SIR_covid19_nyc, beta=(-1.0,1.0,0.01), gamma=(-1.0,1.0,0.01))\n",
    "display(w)"
   ]
  },
  {
   "cell_type": "code",
   "execution_count": null,
   "metadata": {},
   "outputs": [],
   "source": []
  }
 ],
 "metadata": {
  "kernelspec": {
   "display_name": "Python 3",
   "language": "python",
   "name": "python3"
  },
  "language_info": {
   "codemirror_mode": {
    "name": "ipython",
    "version": 3
   },
   "file_extension": ".py",
   "mimetype": "text/x-python",
   "name": "python",
   "nbconvert_exporter": "python",
   "pygments_lexer": "ipython3",
   "version": "3.7.6"
  }
 },
 "nbformat": 4,
 "nbformat_minor": 4
}
